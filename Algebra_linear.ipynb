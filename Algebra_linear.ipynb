{
  "nbformat": 4,
  "nbformat_minor": 0,
  "metadata": {
    "colab": {
      "provenance": [],
      "authorship_tag": "ABX9TyPJ1UZ6EBKWfmmSMz9R2JCb",
      "include_colab_link": true
    },
    "kernelspec": {
      "name": "python3",
      "display_name": "Python 3"
    },
    "language_info": {
      "name": "python"
    }
  },
  "cells": [
    {
      "cell_type": "markdown",
      "metadata": {
        "id": "view-in-github",
        "colab_type": "text"
      },
      "source": [
        "<a href=\"https://colab.research.google.com/github/gustavodbento/Algebra_linear/blob/main/Algebra_linear.ipynb\" target=\"_parent\"><img src=\"https://colab.research.google.com/assets/colab-badge.svg\" alt=\"Open In Colab\"/></a>"
      ]
    },
    {
      "cell_type": "markdown",
      "source": [
        "# Vetores"
      ],
      "metadata": {
        "id": "k_ENq9I0YcFo"
      }
    },
    {
      "cell_type": "code",
      "execution_count": null,
      "metadata": {
        "id": "nmdOd4kKW9F5"
      },
      "outputs": [],
      "source": [
        "from typing import List\n",
        "\n",
        "Vector = List[float]\n",
        "altura_peso_idade = [70,\n",
        "                     170,\n",
        "                     40 ]\n",
        "grades = [95,\n",
        "          80,\n",
        "          75,\n",
        "          62]"
      ]
    },
    {
      "cell_type": "markdown",
      "source": [
        "A SOMA OU ADIÇÃO"
      ],
      "metadata": {
        "id": "G47Hsui2YseA"
      }
    },
    {
      "cell_type": "code",
      "source": [
        "def add(v: Vector, w: Vector) ->Vector:\n",
        "    \"\"\"Soma os elementos correspondentes\"\"\"\n",
        "    assert len(v) == len(w), \"vector must be the same length\"\n",
        "    return[v_i + w_i for v_i, w_i in zip(v, w)]\n",
        "assert add([1, 2, 3], [4, 5, 6]) == [5, 7, 9]"
      ],
      "metadata": {
        "id": "n4CI80T4XV9o"
      },
      "execution_count": null,
      "outputs": []
    },
    {
      "cell_type": "markdown",
      "source": [
        "SUBTRAÇÃO DE VETORES"
      ],
      "metadata": {
        "id": "XTB4G0nWY04u"
      }
    },
    {
      "cell_type": "code",
      "source": [
        "def subtract(v: Vector, w: Vector) -> Vector:\n",
        "    \"\"\"Subtrair os elementos correspondetes\"\"\"\n",
        "    assert len(v) == len(w), \"Vectors must be the same length\"\n",
        "    return [v_i - w_i for v_i, w_i in zip(v, w)]\n",
        "assert subtract([5, 7, 9], [4, 5, 6]) == [1,2, 3]"
      ],
      "metadata": {
        "id": "Y7QshtqkXa7v"
      },
      "execution_count": null,
      "outputs": []
    },
    {
      "cell_type": "markdown",
      "source": [
        "A SOMADE TODOS OS VETORES CORRESPONDENTE"
      ],
      "metadata": {
        "id": "BzkXbyfvZA1N"
      }
    },
    {
      "cell_type": "code",
      "source": [
        "def vector_sum(vectors: List[Vector]) -> Vector:\n",
        "    \"\"\"Soma todos os elementos correspondentes\"\"\"\n",
        "    #verifique se os vetores não estão vazios\n",
        "    assert vectors, \"no vector provided!\"\n",
        "\n",
        "    #Verifique se os vetores são do mesmo tamanho\n",
        "    num_elements = len(vectors[0])\n",
        "    assert all(len(v) == num_elements for v in vectors), \"different sizes!\"\n",
        "\n",
        "    #o elemento de n i do resultado é a soma de todo vector[i]\n",
        "    return [sum(vector[i] for vector in vectors)\n",
        "            for i in range(num_elements)]\n",
        "\n",
        "assert vector_sum([[1, 2], [3, 4], [5, 6], [7, 8]]) == [16, 20]"
      ],
      "metadata": {
        "id": "HIDn9ahVXfXw"
      },
      "execution_count": null,
      "outputs": []
    },
    {
      "cell_type": "markdown",
      "source": [
        "A MULTIPLICAÇÃO"
      ],
      "metadata": {
        "id": "Hg6JEntyZmMY"
      }
    },
    {
      "cell_type": "code",
      "source": [
        "def scalar_multiply(c: float, v: Vector) -> Vector:\n",
        "    \"\"\"Multiplica cada elemento por c\"\"\"\n",
        "    return [c* v_i for v_i in v]\n",
        "\n",
        "assert scalar_multiply(2, [1, 2, 3]) == [2, 4, 6]"
      ],
      "metadata": {
        "id": "b3gPc4Q_XjFf"
      },
      "execution_count": null,
      "outputs": []
    },
    {
      "cell_type": "markdown",
      "source": [
        "A MÉDIA DE VETORES"
      ],
      "metadata": {
        "id": "b3oXq3wLZrpw"
      }
    },
    {
      "cell_type": "code",
      "source": [
        "def vector_mean(vectors: List[Vector]) -> Vector:\n",
        "    \"\"\"Computa a média dos elementos\"\"\"\n",
        "    n = len(vectors)\n",
        "    return scalar_multiply(1/n, vector_sum(vectors))\n",
        "assert vector_mean([[1, 2], [3, 4], [5, 6]]) == [3, 4]"
      ],
      "metadata": {
        "id": "1yVgLShPXmfo"
      },
      "execution_count": null,
      "outputs": []
    },
    {
      "cell_type": "markdown",
      "source": [
        "PRODUTO ESCALAR DE DOIS VETORES"
      ],
      "metadata": {
        "id": "Gh2qj0x7Z5cc"
      }
    },
    {
      "cell_type": "code",
      "source": [
        "def dot(v: Vector, w: Vector) -> float:\n",
        "    \"\"\"Computa v_1 * w_1 + ... + v_n * w_n\"\"\"\n",
        "    assert len(v) == len(w), \"vectors must be same length\"\n",
        "\n",
        "    return sum(v_i * w_i for v_i, w_i in zip(v, w))\n",
        "assert dot([1, 2, 3], [4, 5, 6]) == 32"
      ],
      "metadata": {
        "id": "Kh5Uy18xXsHy"
      },
      "execution_count": null,
      "outputs": []
    },
    {
      "cell_type": "markdown",
      "source": [
        "A SOMA DOS QUADRADOS DE UM VETOR"
      ],
      "metadata": {
        "id": "gj1msPCFaFh_"
      }
    },
    {
      "cell_type": "code",
      "source": [
        "def sum_of_square(v: Vector) -> float:\n",
        "    \"\"\"Retorna v_1 * v_1 + ... +v_n * v_n\"\"\"\n",
        "    return dot(v,v)\n",
        "assert sum_of_square([1, 2, 3]) == 14"
      ],
      "metadata": {
        "id": "ig9Mdb4zXxS3"
      },
      "execution_count": null,
      "outputs": []
    },
    {
      "cell_type": "markdown",
      "source": [
        "A MAGNITUDE DE UM VETOR"
      ],
      "metadata": {
        "id": "gSR7p8XNaPFs"
      }
    },
    {
      "cell_type": "code",
      "source": [
        "import math\n",
        "\n",
        "def magnitude(v: Vector) -> float:\n",
        "    \"\"\"Retorna a magnitude (ou comprimento) de v\"\"\"\n",
        "    return math.sqrt(sum_of_square(v))\n",
        "assert magnitude([3, 4]) == 5"
      ],
      "metadata": {
        "id": "3d4AYP3qX0Xv"
      },
      "execution_count": null,
      "outputs": []
    },
    {
      "cell_type": "markdown",
      "source": [
        "A DISTANCIA ENTRE DOIS VETORES"
      ],
      "metadata": {
        "id": "L-LqMZa6aWuc"
      }
    },
    {
      "cell_type": "code",
      "source": [
        "def square_distance(v: Vector, w: Vector) -> float:\n",
        "    \"\"\"Computa(v_1 - w_1) ** 2 + ... + (v_n -w_n) ** 2\"\"\"\n",
        "    return sum_of_square(subtract(v, w))\n",
        "\n",
        "def distance(v: Vector, w: Vector) -> float:\n",
        "    \"\"\"Computaa distancia entre v e w\"\"\"\n",
        "    return math.sqrt(square_distance(v, w))"
      ],
      "metadata": {
        "id": "N5-6DJMKX25X"
      },
      "execution_count": null,
      "outputs": []
    },
    {
      "cell_type": "code",
      "source": [
        "def distance(v: Vector, w: Vector) -> float:\n",
        "    return magnitude(subtract)"
      ],
      "metadata": {
        "id": "uZpMDhaDX6SW"
      },
      "execution_count": null,
      "outputs": []
    },
    {
      "cell_type": "markdown",
      "source": [
        "# Matrizes\n"
      ],
      "metadata": {
        "id": "JkT2NtzjX8bm"
      }
    },
    {
      "cell_type": "code",
      "source": [
        "Matrix = List[List[float]]\n",
        "\n",
        "A = [[1, 2, 3],\n",
        "     [4, 5, 6]]\n",
        "\n",
        "B = [[1, 2],\n",
        "     [3, 4],\n",
        "     [5,6]]"
      ],
      "metadata": {
        "id": "9RYQpuauYGQ2"
      },
      "execution_count": null,
      "outputs": []
    },
    {
      "cell_type": "code",
      "source": [
        "from typing import Tuple\n",
        "\n",
        "\n",
        "def shape(A: Matrix) -> Vector:\n",
        "    \"\"\"Retorna (nº de linhas de A, nº de colunas de A)\"\"\"\n",
        "    num_rows = len(A)\n",
        "    num_cols = len(A[0]) if A else 0\n",
        "    return num_rows, num_cols\n",
        "assert shape([[1, 2, 3], [4, 5, 6]]) == (2,3)"
      ],
      "metadata": {
        "id": "RRwFQ-v6YMbn"
      },
      "execution_count": null,
      "outputs": []
    },
    {
      "cell_type": "markdown",
      "source": [
        "MATRIZ COMO UM VETOR"
      ],
      "metadata": {
        "id": "w8_3eIzRbJwa"
      }
    },
    {
      "cell_type": "code",
      "source": [
        "def get_row(A: Matrix, i:int) -> Vector:\n",
        "    \"\"\"retorna a linha i de A (como um Vector)\"\"\"\n",
        "    return A[i]\n",
        "\n",
        "def get_column(A: Matrix, i: int) -> Vector:\n",
        "    \"\"\"Retorna a coluna j de A (como um vetor)\"\"\"\n",
        "    return [A_i[j]\n",
        "            for A_i in A]"
      ],
      "metadata": {
        "id": "UeCbK6fwYQkO"
      },
      "execution_count": null,
      "outputs": []
    },
    {
      "cell_type": "markdown",
      "source": [
        "CRIAR MATRIZES A PATIR DA SUA FORMA E DE UMA FUNÇÃO"
      ],
      "metadata": {
        "id": "q6bVathGbYDP"
      }
    },
    {
      "cell_type": "code",
      "source": [
        "from typing import Callable\n",
        "def make_matrix(num_rows: int,\n",
        "                num_cols: int,\n",
        "                entry_fn: Callable[[int, int], float]) -> Matrix:\n",
        "    \"\"\"Retorna uma matriz num_rows x num_cols\n",
        "        cuja entrada (i,j) é entry_fn(i,j)\"\"\"\n",
        "    return [[entry_fn(i, j)\n",
        "             for j in range(num_cols)]\n",
        "             for i in range(num_rows)]"
      ],
      "metadata": {
        "id": "j_SlnmNTYUem"
      },
      "execution_count": null,
      "outputs": []
    },
    {
      "cell_type": "markdown",
      "source": [
        "A MATRIZ IDENTIDADE"
      ],
      "metadata": {
        "id": "ep5uKeCZbiok"
      }
    },
    {
      "cell_type": "code",
      "source": [
        "def identy_matrix(n: int) -> Matrix:\n",
        "    \"\"\"returna a matriz de identidade n x n\"\"\"\n",
        "    return make_matrix(n, n, lambda i, j: 1 if i == j else 0)\n",
        "\n",
        "assert identy_matrix(5) == [[1, 0, 0, 0, 0],\n",
        "                            [0, 1, 0, 0, 0],\n",
        "                            [0, 0, 1, 0, 0],\n",
        "                            [0, 0, 0, 1, 0],\n",
        "                            [0, 0, 0, 0, 1]]"
      ],
      "metadata": {
        "id": "W2aLKbqmYXrI"
      },
      "execution_count": null,
      "outputs": []
    }
  ]
}